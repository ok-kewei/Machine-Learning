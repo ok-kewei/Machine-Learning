{
 "cells": [
  {
   "cell_type": "code",
   "execution_count": 1,
   "metadata": {},
   "outputs": [],
   "source": [
    "import io\n",
    "from PIL import Image\n",
    "import pytesseract "
   ]
  },
  {
   "cell_type": "code",
   "execution_count": 2,
   "metadata": {},
   "outputs": [],
   "source": [
    "from wand.image import Image as wi"
   ]
  },
  {
   "cell_type": "code",
   "execution_count": 3,
   "metadata": {},
   "outputs": [],
   "source": [
    "pdf = wi(filename = 'sample.pdf', resolution = 300)"
   ]
  },
  {
   "cell_type": "code",
   "execution_count": 4,
   "metadata": {},
   "outputs": [],
   "source": [
    "pdfImage = pdf.convert('jpeg')"
   ]
  },
  {
   "cell_type": "code",
   "execution_count": 5,
   "metadata": {},
   "outputs": [],
   "source": [
    "imageBlobs = []"
   ]
  },
  {
   "cell_type": "code",
   "execution_count": 6,
   "metadata": {},
   "outputs": [],
   "source": [
    "for img in pdfImage.sequence:\n",
    "\timgPage = wi(image = img)\n",
    "\timageBlobs.append(imgPage.make_blob('jpeg'))"
   ]
  },
  {
   "cell_type": "code",
   "execution_count": 7,
   "metadata": {},
   "outputs": [],
   "source": [
    "recognized_text = []\n",
    "pytesseract.pytesseract.tesseract_cmd = 'C:\\\\Program Files (x86)\\\\Tesseract-OCR\\\\tesseract.exe'"
   ]
  },
  {
   "cell_type": "code",
   "execution_count": 8,
   "metadata": {},
   "outputs": [],
   "source": [
    "for imgBlob in imageBlobs:\n",
    "    im = Image.open(io.BytesIO(imgBlob))\n",
    "    text = pytesseract.image_to_string(im, lang = 'eng')\n",
    "    recognized_text.append(text)\n"
   ]
  },
  {
   "cell_type": "code",
   "execution_count": 9,
   "metadata": {},
   "outputs": [
    {
     "name": "stdout",
     "output_type": "stream",
     "text": [
      "['A Simple PDF File\\n\\nThis is a small demonstration .pdf file -\\n\\njust for use in the Virtual Mechanics tutorials. More text. And more\\ntext. And more text. And more text. And more text.\\n\\nAnd more text. And more text. And more text. And more text. And more\\ntext. And more text. Boring, zzzzz. And more text. And more text. And\\nmore text. And more text. And more text. And more text. And more text.\\nAnd more text. And more text.\\n\\nAnd more text. And more text. And more text. And more text. And more\\ntext. And more text. And more text. Even more. Continued on page 2 ...', 'Simple PDF File 2\\n\\n...continued from page 1. Yet more text. And more text. And more text.\\nAnd more text. And more text. And more text. And more text. And more\\ntext. Oh, how boring typing this stuff. But not as boring as watching\\npaint dry. And more text. And more text. And more text. And more text.\\nBoring. More, a little more text. The end, and just as well.']\n"
     ]
    }
   ],
   "source": [
    "print(recognized_text)"
   ]
  },
  {
   "cell_type": "code",
   "execution_count": 10,
   "metadata": {},
   "outputs": [
    {
     "name": "stdout",
     "output_type": "stream",
     "text": [
      "A Simple PDF File\n",
      "\n",
      "This is a small demonstration .pdf file -\n",
      "\n",
      "just for use in the Virtual Mechanics tutorials. More text. And more\n",
      "text. And more text. And more text. And more text.\n",
      "\n",
      "And more text. And more text. And more text. And more text. And more\n",
      "text. And more text. Boring, zzzzz. And more text. And more text. And\n",
      "more text. And more text. And more text. And more text. And more text.\n",
      "And more text. And more text.\n",
      "\n",
      "And more text. And more text. And more text. And more text. And more\n",
      "text. And more text. And more text. Even more. Continued on page 2 ... Simple PDF File 2\n",
      "\n",
      "...continued from page 1. Yet more text. And more text. And more text.\n",
      "And more text. And more text. And more text. And more text. And more\n",
      "text. Oh, how boring typing this stuff. But not as boring as watching\n",
      "paint dry. And more text. And more text. And more text. And more text.\n",
      "Boring. More, a little more text. The end, and just as well.\n"
     ]
    }
   ],
   "source": [
    "fullStr = ' '.join(recognized_text)\n",
    "print(fullStr)"
   ]
  },
  {
   "cell_type": "code",
   "execution_count": null,
   "metadata": {},
   "outputs": [],
   "source": []
  }
 ],
 "metadata": {
  "kernelspec": {
   "display_name": "Python 3",
   "language": "python",
   "name": "python3"
  },
  "language_info": {
   "codemirror_mode": {
    "name": "ipython",
    "version": 3
   },
   "file_extension": ".py",
   "mimetype": "text/x-python",
   "name": "python",
   "nbconvert_exporter": "python",
   "pygments_lexer": "ipython3",
   "version": "3.7.2"
  }
 },
 "nbformat": 4,
 "nbformat_minor": 2
}
